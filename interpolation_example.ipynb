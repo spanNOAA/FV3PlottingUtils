{
 "cells": [
  {
   "cell_type": "code",
   "execution_count": 1,
   "metadata": {},
   "outputs": [],
   "source": [
    "import numpy as np\n",
    "from scipy.interpolate import griddata"
   ]
  },
  {
   "cell_type": "code",
   "execution_count": 3,
   "metadata": {},
   "outputs": [
    {
     "name": "stdout",
     "output_type": "stream",
     "text": [
      "(4, 4) (4, 4)\n",
      "(4, 4)\n",
      "(16, 2) (16,)\n",
      "Interpolated value at (31.5, 101.5): 8.5\n"
     ]
    }
   ],
   "source": [
    "# Example unstructured lat and lon arrays (not strictly increasing)\n",
    "lat = np.array([[30, 30, 31, 31],\n",
    "                [32, 32, 33, 33],\n",
    "                [30, 30, 31, 31],\n",
    "                [32, 32, 33, 33]])\n",
    "\n",
    "lon = np.array([[100, 101, 100, 101],\n",
    "                [100, 101, 100, 101],\n",
    "                [102, 103, 102, 103],\n",
    "                [102, 103, 102, 103]])\n",
    "\n",
    "print(lat.shape, lon.shape)\n",
    "\n",
    "# Corresponding 2D data array\n",
    "data = np.array([[1, 2, 5, 6],\n",
    "                 [9, 10, 13, 14],\n",
    "                 [3, 4, 7, 8],\n",
    "                 [11, 12, 15, 16]])\n",
    "print(data.shape)\n",
    "\n",
    "# Flatten the 2D arrays for use with griddata\n",
    "points = np.column_stack((lat.ravel(), lon.ravel()))\n",
    "values = data.ravel()\n",
    "print(points.shape, values.shape)\n",
    "\n",
    "# Given latitude and longitude for which we want the data value\n",
    "given_lat = 31.5\n",
    "given_lon = 101.5\n",
    "\n",
    "# Interpolate to find the data value at the given lat and lon\n",
    "interpolated_value = griddata(points, values, (given_lat, given_lon), method='linear')\n",
    "\n",
    "print(\"Interpolated value at ({}, {}): {}\".format(given_lat, given_lon, interpolated_value))"
   ]
  },
  {
   "cell_type": "code",
   "execution_count": null,
   "metadata": {},
   "outputs": [],
   "source": []
  }
 ],
 "metadata": {
  "kernelspec": {
   "display_name": "jedifv3",
   "language": "python",
   "name": "jedifv3"
  },
  "language_info": {
   "codemirror_mode": {
    "name": "ipython",
    "version": 3
   },
   "file_extension": ".py",
   "mimetype": "text/x-python",
   "name": "python",
   "nbconvert_exporter": "python",
   "pygments_lexer": "ipython3",
   "version": "3.12.3"
  }
 },
 "nbformat": 4,
 "nbformat_minor": 4
}
