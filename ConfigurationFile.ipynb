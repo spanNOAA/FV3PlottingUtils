{
 "cells": [
  {
   "cell_type": "code",
   "execution_count": 1,
   "metadata": {},
   "outputs": [
    {
     "name": "stdout",
     "output_type": "stream",
     "text": [
      "Jupyter configuration directory: /home/span/.jupyter\n",
      "Jupyter configuration file: /home/span/.jupyter/jupyter_notebook_config.py\n"
     ]
    }
   ],
   "source": [
    "from jupyter_core.paths import jupyter_config_dir\n",
    "import os\n",
    "\n",
    "config_dir = jupyter_config_dir()\n",
    "config_file_path = os.path.join(config_dir, 'jupyter_notebook_config.py')\n",
    "\n",
    "print(f\"Jupyter configuration directory: {config_dir}\")\n",
    "print(f\"Jupyter configuration file: {config_file_path}\")"
   ]
  },
  {
   "cell_type": "code",
   "execution_count": null,
   "metadata": {},
   "outputs": [],
   "source": []
  }
 ],
 "metadata": {
  "kernelspec": {
   "display_name": "jedifv3",
   "language": "python",
   "name": "jedifv3"
  },
  "language_info": {
   "codemirror_mode": {
    "name": "ipython",
    "version": 3
   },
   "file_extension": ".py",
   "mimetype": "text/x-python",
   "name": "python",
   "nbconvert_exporter": "python",
   "pygments_lexer": "ipython3",
   "version": "3.12.3"
  }
 },
 "nbformat": 4,
 "nbformat_minor": 4
}
